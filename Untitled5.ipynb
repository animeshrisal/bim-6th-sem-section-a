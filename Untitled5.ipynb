{
 "cells": [
  {
   "cell_type": "code",
   "execution_count": 1,
   "id": "f547d961-cf34-49e6-ac68-868293890e4d",
   "metadata": {},
   "outputs": [],
   "source": [
    "from sklearn.feature_extraction.text import CountVectorizer\n",
    "from sklearn.metrics.pairwise import cosine_similarity"
   ]
  },
  {
   "cell_type": "code",
   "execution_count": 2,
   "id": "1aa7aecc-caf7-45a1-b89f-4c1cad84cc3c",
   "metadata": {},
   "outputs": [],
   "source": [
    "sentences = ['Superhero Action Movie',\n",
    "             'Romantic Movie', \n",
    "             'Superhero Action TV Show', \n",
    "             'Romantic TV Show'\n",
    "            ]"
   ]
  },
  {
   "cell_type": "code",
   "execution_count": 3,
   "id": "ef37e5e6-b0af-4ba8-84dc-3f56aadb1f49",
   "metadata": {},
   "outputs": [],
   "source": [
    "cv = CountVectorizer()"
   ]
  },
  {
   "cell_type": "code",
   "execution_count": 4,
   "id": "1fb64796-b9db-4608-bec0-41bb8031262a",
   "metadata": {},
   "outputs": [],
   "source": [
    "count_matrix = cv.fit_transform(sentences)"
   ]
  },
  {
   "cell_type": "code",
   "execution_count": 5,
   "id": "fa8a89fa-b4d6-4bf4-919c-77cd8f9764de",
   "metadata": {},
   "outputs": [
    {
     "data": {
      "text/plain": [
       "array([[1, 1, 0, 0, 1, 0],\n",
       "       [0, 1, 1, 0, 0, 0],\n",
       "       [1, 0, 0, 1, 1, 1],\n",
       "       [0, 0, 1, 1, 0, 1]], dtype=int64)"
      ]
     },
     "execution_count": 5,
     "metadata": {},
     "output_type": "execute_result"
    }
   ],
   "source": [
    "count_matrix.toarray()"
   ]
  },
  {
   "cell_type": "code",
   "execution_count": 6,
   "id": "f6299602-50ff-48d1-874a-eb13efbaf3dc",
   "metadata": {},
   "outputs": [],
   "source": [
    " cosine_sum = cosine_similarity(count_matrix)"
   ]
  },
  {
   "cell_type": "code",
   "execution_count": 7,
   "id": "b83ca9e6-96db-494c-89ff-e42d4870dfee",
   "metadata": {},
   "outputs": [
    {
     "data": {
      "text/plain": [
       "array([[1.        , 0.40824829, 0.57735027, 0.        ],\n",
       "       [0.40824829, 1.        , 0.        , 0.40824829],\n",
       "       [0.57735027, 0.        , 1.        , 0.57735027],\n",
       "       [0.        , 0.40824829, 0.57735027, 1.        ]])"
      ]
     },
     "execution_count": 7,
     "metadata": {},
     "output_type": "execute_result"
    }
   ],
   "source": [
    " cosine_sum"
   ]
  },
  {
   "cell_type": "code",
   "execution_count": 8,
   "id": "e9fa3353-b70a-4d77-967f-d7be2b260cd6",
   "metadata": {},
   "outputs": [],
   "source": [
    "sentence_data = cosine_sum[0]"
   ]
  },
  {
   "cell_type": "code",
   "execution_count": 20,
   "id": "aca235b9-e554-4405-b6cf-fceb054b6e91",
   "metadata": {},
   "outputs": [
    {
     "data": {
      "text/plain": [
       "array([1.        , 0.40824829, 0.57735027, 0.        ])"
      ]
     },
     "execution_count": 20,
     "metadata": {},
     "output_type": "execute_result"
    }
   ],
   "source": [
    "#Get cosine similarity for sentence 1\n",
    "sentence_data"
   ]
  },
  {
   "cell_type": "code",
   "execution_count": 10,
   "id": "60fa7691-1a9f-43f3-a393-2e03d92dcf3c",
   "metadata": {},
   "outputs": [],
   "source": [
    "#Add indexing\n",
    "enumerated_data = enumerate(sentence_data)"
   ]
  },
  {
   "cell_type": "code",
   "execution_count": 11,
   "id": "efa87233-8bb6-4df0-948e-4eb78e409a6b",
   "metadata": {},
   "outputs": [
    {
     "data": {
      "text/plain": [
       "<enumerate at 0x26c1e12e780>"
      ]
     },
     "execution_count": 11,
     "metadata": {},
     "output_type": "execute_result"
    }
   ],
   "source": [
    "enumerated_data"
   ]
  },
  {
   "cell_type": "code",
   "execution_count": 12,
   "id": "99a168dc-5f12-4348-b08e-944ba2f22762",
   "metadata": {},
   "outputs": [],
   "source": [
    "#Convert enumerated data to list\n",
    "list_data = list(enumerated_data)"
   ]
  },
  {
   "cell_type": "code",
   "execution_count": 13,
   "id": "c83a392b-89b8-4d45-aed8-11343bdfdf99",
   "metadata": {},
   "outputs": [
    {
     "data": {
      "text/plain": [
       "[(0, 1.0000000000000002),\n",
       " (1, 0.408248290463863),\n",
       " (2, 0.5773502691896258),\n",
       " (3, 0.0)]"
      ]
     },
     "execution_count": 13,
     "metadata": {},
     "output_type": "execute_result"
    }
   ],
   "source": [
    "list_data"
   ]
  },
  {
   "cell_type": "code",
   "execution_count": 14,
   "id": "ea8d2b22-0396-4cfb-8485-f30b70909b86",
   "metadata": {},
   "outputs": [],
   "source": [
    "#Sort list\n",
    "sorted_list = sorted(list_data, key=lambda x:x[1], reverse=True)"
   ]
  },
  {
   "cell_type": "code",
   "execution_count": 15,
   "id": "e83be759-399a-4c1b-821f-fa14d0fb7fa7",
   "metadata": {},
   "outputs": [
    {
     "data": {
      "text/plain": [
       "[(0, 1.0000000000000002),\n",
       " (2, 0.5773502691896258),\n",
       " (1, 0.408248290463863),\n",
       " (3, 0.0)]"
      ]
     },
     "execution_count": 15,
     "metadata": {},
     "output_type": "execute_result"
    }
   ],
   "source": [
    "sorted_list"
   ]
  },
  {
   "cell_type": "code",
   "execution_count": 16,
   "id": "153a6817-0e02-4118-a368-6cf5ccef92ad",
   "metadata": {},
   "outputs": [
    {
     "data": {
      "text/plain": [
       "(2, 0.5773502691896258)"
      ]
     },
     "execution_count": 16,
     "metadata": {},
     "output_type": "execute_result"
    }
   ],
   "source": [
    "#get nearest sentence\n",
    "sorted_list[1]"
   ]
  },
  {
   "cell_type": "code",
   "execution_count": 17,
   "id": "375b8d71-56df-45b2-9996-19d17e09b41b",
   "metadata": {},
   "outputs": [
    {
     "data": {
      "text/plain": [
       "2"
      ]
     },
     "execution_count": 17,
     "metadata": {},
     "output_type": "execute_result"
    }
   ],
   "source": [
    "sorted_list[1][0]"
   ]
  },
  {
   "cell_type": "code",
   "execution_count": 18,
   "id": "7ff3a2c3-2ce5-46c1-8b21-fcc49515a8ea",
   "metadata": {},
   "outputs": [],
   "source": [
    "nearest_sentence_index = sorted_list[1][0]"
   ]
  },
  {
   "cell_type": "code",
   "execution_count": 19,
   "id": "90b2a2fb-b500-4ca8-bf82-81880cda73e3",
   "metadata": {},
   "outputs": [
    {
     "data": {
      "text/plain": [
       "'Superhero Action TV Show'"
      ]
     },
     "execution_count": 19,
     "metadata": {},
     "output_type": "execute_result"
    }
   ],
   "source": [
    "sentences[nearest_sentence_index]"
   ]
  },
  {
   "cell_type": "code",
   "execution_count": null,
   "id": "b28f655b-f555-4ed7-864b-0e19b3b9f52c",
   "metadata": {},
   "outputs": [],
   "source": []
  },
  {
   "cell_type": "code",
   "execution_count": null,
   "id": "7cfda692-8e69-45c6-9a63-a7fc6df26f35",
   "metadata": {},
   "outputs": [],
   "source": []
  },
  {
   "cell_type": "code",
   "execution_count": null,
   "id": "3693f3ee-e0de-4a28-b666-978233cc2a98",
   "metadata": {},
   "outputs": [],
   "source": []
  }
 ],
 "metadata": {
  "kernelspec": {
   "display_name": "Python 3 (ipykernel)",
   "language": "python",
   "name": "python3"
  },
  "language_info": {
   "codemirror_mode": {
    "name": "ipython",
    "version": 3
   },
   "file_extension": ".py",
   "mimetype": "text/x-python",
   "name": "python",
   "nbconvert_exporter": "python",
   "pygments_lexer": "ipython3",
   "version": "3.10.1"
  }
 },
 "nbformat": 4,
 "nbformat_minor": 5
}
